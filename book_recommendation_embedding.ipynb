{
 "cells": [
  {
   "cell_type": "code",
   "execution_count": 2,
   "id": "ad716e07-1629-4127-81ca-57e37eda3a0f",
   "metadata": {},
   "outputs": [
    {
     "name": "stdout",
     "output_type": "stream",
     "text": [
      "Note: you may need to restart the kernel to use updated packages.\n"
     ]
    }
   ],
   "source": [
    "pip install -q 'openai<1'"
   ]
  },
  {
   "cell_type": "code",
   "execution_count": 3,
   "id": "26938402-963d-4368-9cd8-65c5c0b4a458",
   "metadata": {},
   "outputs": [
    {
     "name": "stdout",
     "output_type": "stream",
     "text": [
      "Note: you may need to restart the kernel to use updated packages.\n"
     ]
    }
   ],
   "source": [
    "pip install numpy -q"
   ]
  },
  {
   "cell_type": "code",
   "execution_count": 4,
   "id": "19be4437-e4c2-44e2-a6c6-75c71f7ce0bf",
   "metadata": {},
   "outputs": [
    {
     "name": "stdout",
     "output_type": "stream",
     "text": [
      "Note: you may need to restart the kernel to use updated packages.\n"
     ]
    }
   ],
   "source": [
    "pip install matplotlib scipy scikit-learn plotly -q"
   ]
  },
  {
   "cell_type": "code",
   "execution_count": 5,
   "id": "3a15586d-b4ac-47ca-a1c0-39e22ea47558",
   "metadata": {},
   "outputs": [],
   "source": [
    "from openai.embeddings_utils import get_embedding"
   ]
  },
  {
   "cell_type": "code",
   "execution_count": 8,
   "id": "39a64116-2502-4f93-ba7b-d2e309266e8c",
   "metadata": {},
   "outputs": [],
   "source": [
    "def openai_authenticate(keyfile):\n",
    "    import openai\n",
    "    with open(keyfile,'r') as f:\n",
    "        api_key = f.read().strip('\\n')\n",
    "        assert api_key.startswith('sk-'),'Error loading API key. API key shouls starts with sk'\n",
    "    openai.api_key = api_key\n",
    "openai_authenticate('./key.txt')"
   ]
  },
  {
   "cell_type": "markdown",
   "id": "bcb3cae7-a2cf-4f3b-ba23-cb49f8a6ddbb",
   "metadata": {},
   "source": [
    "## Loading dataset"
   ]
  },
  {
   "cell_type": "code",
   "execution_count": 10,
   "id": "9d6e5df4-c780-4574-afb4-34ae99ca18ff",
   "metadata": {},
   "outputs": [
    {
     "data": {
      "text/html": [
       "<div>\n",
       "<style scoped>\n",
       "    .dataframe tbody tr th:only-of-type {\n",
       "        vertical-align: middle;\n",
       "    }\n",
       "\n",
       "    .dataframe tbody tr th {\n",
       "        vertical-align: top;\n",
       "    }\n",
       "\n",
       "    .dataframe thead th {\n",
       "        text-align: right;\n",
       "    }\n",
       "</style>\n",
       "<table border=\"1\" class=\"dataframe\">\n",
       "  <thead>\n",
       "    <tr style=\"text-align: right;\">\n",
       "      <th></th>\n",
       "      <th>isbn13</th>\n",
       "      <th>title</th>\n",
       "      <th>authors</th>\n",
       "      <th>categories</th>\n",
       "      <th>description</th>\n",
       "      <th>published_year</th>\n",
       "      <th>average_rating</th>\n",
       "    </tr>\n",
       "  </thead>\n",
       "  <tbody>\n",
       "    <tr>\n",
       "      <th>6738</th>\n",
       "      <td>9781932206081</td>\n",
       "      <td>Insights</td>\n",
       "      <td>Frederick Lenz</td>\n",
       "      <td>Spiritual life</td>\n",
       "      <td>In 1983, when Rama - Dr. Frederick P. Lenz rec...</td>\n",
       "      <td>2003.0</td>\n",
       "      <td>5.0</td>\n",
       "    </tr>\n",
       "    <tr>\n",
       "      <th>5398</th>\n",
       "      <td>9780851621814</td>\n",
       "      <td>The Complete Theory Fun Factory</td>\n",
       "      <td>Katie Elliott;Ian Martin</td>\n",
       "      <td>Juvenile Nonfiction</td>\n",
       "      <td>(Boosey &amp; Hawkes Scores/Books). Contains the m...</td>\n",
       "      <td>1996.0</td>\n",
       "      <td>5.0</td>\n",
       "    </tr>\n",
       "    <tr>\n",
       "      <th>5972</th>\n",
       "      <td>9781551052700</td>\n",
       "      <td>Ecuador Nature Guide</td>\n",
       "      <td>Christopher D. Jiggins</td>\n",
       "      <td>Botanique</td>\n",
       "      <td>The guide provides information on 76 species o...</td>\n",
       "      <td>2000.0</td>\n",
       "      <td>5.0</td>\n",
       "    </tr>\n",
       "    <tr>\n",
       "      <th>6671</th>\n",
       "      <td>9781890995522</td>\n",
       "      <td>The Diamond Color Meditation</td>\n",
       "      <td>John Diamond</td>\n",
       "      <td>Health &amp; Fitness</td>\n",
       "      <td>The Diamond Color Meditation presents an inspi...</td>\n",
       "      <td>2006.0</td>\n",
       "      <td>5.0</td>\n",
       "    </tr>\n",
       "    <tr>\n",
       "      <th>4306</th>\n",
       "      <td>9780739844328</td>\n",
       "      <td>Bill Gates</td>\n",
       "      <td>Sara Barton-Wood</td>\n",
       "      <td>Juvenile Nonfiction</td>\n",
       "      <td>Presents the life of Bill Gates, from his chil...</td>\n",
       "      <td>2001.0</td>\n",
       "      <td>5.0</td>\n",
       "    </tr>\n",
       "  </tbody>\n",
       "</table>\n",
       "</div>"
      ],
      "text/plain": [
       "             isbn13                            title  \\\n",
       "6738  9781932206081                         Insights   \n",
       "5398  9780851621814  The Complete Theory Fun Factory   \n",
       "5972  9781551052700             Ecuador Nature Guide   \n",
       "6671  9781890995522     The Diamond Color Meditation   \n",
       "4306  9780739844328                       Bill Gates   \n",
       "\n",
       "                       authors           categories  \\\n",
       "6738            Frederick Lenz       Spiritual life   \n",
       "5398  Katie Elliott;Ian Martin  Juvenile Nonfiction   \n",
       "5972    Christopher D. Jiggins            Botanique   \n",
       "6671              John Diamond     Health & Fitness   \n",
       "4306          Sara Barton-Wood  Juvenile Nonfiction   \n",
       "\n",
       "                                            description  published_year  \\\n",
       "6738  In 1983, when Rama - Dr. Frederick P. Lenz rec...          2003.0   \n",
       "5398  (Boosey & Hawkes Scores/Books). Contains the m...          1996.0   \n",
       "5972  The guide provides information on 76 species o...          2000.0   \n",
       "6671  The Diamond Color Meditation presents an inspi...          2006.0   \n",
       "4306  Presents the life of Bill Gates, from his chil...          2001.0   \n",
       "\n",
       "      average_rating  \n",
       "6738             5.0  \n",
       "5398             5.0  \n",
       "5972             5.0  \n",
       "6671             5.0  \n",
       "4306             5.0  "
      ]
     },
     "execution_count": 10,
     "metadata": {},
     "output_type": "execute_result"
    }
   ],
   "source": [
    "import pandas as pd\n",
    "\n",
    "# Loading the CSV file into a Pandas DataFrame\n",
    "df = pd.read_csv('./books_dataset.csv')\n",
    "\n",
    "# Cleaning the data, dropping rows with missing values\n",
    "df.dropna(inplace=True)\n",
    "\n",
    "# sorting by average rating the returning the first 2000 records\n",
    "df = df.sort_values('average_rating', ascending=False).head(2000)\n",
    "df.head()"
   ]
  },
  {
   "cell_type": "markdown",
   "id": "f9b6ec08-743d-4d8f-ad92-18f4d500514b",
   "metadata": {},
   "source": [
    "## Embedding cost"
   ]
  },
  {
   "cell_type": "code",
   "execution_count": 12,
   "id": "7555e5e0-1622-4523-84dc-f4b60520f0ad",
   "metadata": {},
   "outputs": [
    {
     "name": "stdout",
     "output_type": "stream",
     "text": [
      "Total tokens: 165898\n",
      "Estimated cost in USD: 0.0033179600\n"
     ]
    }
   ],
   "source": [
    "import tiktoken\n",
    "\n",
    "enc = tiktoken.encoding_for_model('text-embedding-3-small')\n",
    "descriptions = list(df['description'])\n",
    "total_tokens = sum([len(enc.encode(item)) for item in descriptions])\n",
    "print(f'Total tokens: {total_tokens}')\n",
    "\n",
    "cost = total_tokens * (0.000020/1000)\n",
    "print(f'Estimated cost in USD: {cost:.10f}')"
   ]
  },
  {
   "cell_type": "markdown",
   "id": "99bffa3b-e4ed-4723-a542-0d64d3097dcb",
   "metadata": {},
   "source": [
    "### Calculating the Embeddings and Cache Them Locally"
   ]
  },
  {
   "cell_type": "code",
   "execution_count": 13,
   "id": "e62c8362-0022-40bd-9595-3bf66bd3bfce",
   "metadata": {},
   "outputs": [],
   "source": [
    "def get_embedding_and_save_to_csv(embedding_cache_file):\n",
    "\n",
    "    from openai.embeddings_utils import get_embedding\n",
    "    \n",
    "    df['embedding'] = df['description'].apply(lambda x : get_embedding(x, engine='text-embedding-3-small'))\n",
    "    \n",
    "    df.to_csv(embedding_cache_file)"
   ]
  },
  {
   "cell_type": "code",
   "execution_count": 14,
   "id": "2a6db707-dd05-4ea8-a6e3-7d311da62ba1",
   "metadata": {},
   "outputs": [],
   "source": [
    "get_embedding_and_save_to_csv('books_embedding.csv')"
   ]
  },
  {
   "cell_type": "markdown",
   "id": "3bce81ce-162f-4150-abe8-ec8251390b45",
   "metadata": {},
   "source": [
    "## Loading Embedding"
   ]
  },
  {
   "cell_type": "code",
   "execution_count": 18,
   "id": "67a8f912-b103-4957-83eb-8914fd4b5d8f",
   "metadata": {},
   "outputs": [],
   "source": [
    "import numpy as np\n",
    "embedded_cache_file = 'books_embedding.csv'\n",
    "df_embedding = pd.read_csv(embedded_cache_file)\n",
    "\n",
    "# converting embeddings: str => numpy array\n",
    "df_embedding['embedding'] = df_embedding['embedding'].apply(eval).apply(np.array)"
   ]
  },
  {
   "cell_type": "code",
   "execution_count": 19,
   "id": "23ab2ee6-257d-47a8-975a-96f0bca4c9d0",
   "metadata": {},
   "outputs": [
    {
     "data": {
      "text/plain": [
       "(2000, 9)"
      ]
     },
     "execution_count": 19,
     "metadata": {},
     "output_type": "execute_result"
    }
   ],
   "source": [
    "df_embedding.shape"
   ]
  },
  {
   "cell_type": "markdown",
   "id": "f6f4aceb-6e68-4487-9bf1-fea316f83391",
   "metadata": {},
   "source": [
    "## Get Recommendation from Title"
   ]
  },
  {
   "cell_type": "code",
   "execution_count": 20,
   "id": "7b4bd690-0a36-4930-9eba-469568b7e647",
   "metadata": {},
   "outputs": [],
   "source": [
    "from openai.embeddings_utils import distances_from_embeddings, indices_of_nearest_neighbors_from_distances"
   ]
  },
  {
   "cell_type": "code",
   "execution_count": 36,
   "id": "321ae2be-2f59-41a7-8683-b2d20ee52258",
   "metadata": {},
   "outputs": [],
   "source": [
    "def recomendation_from_title(df_embedding,title,k):\n",
    "    from openai.embeddings_utils import distances_from_embeddings, indices_of_nearest_neighbors_from_distances\n",
    "    title = title.strip()\n",
    "        \n",
    "     # embedding of the target book\n",
    "    book_embedding = df_embedding[df_embedding['title'].str.lower() == title.lower()]['embedding']\n",
    "    \n",
    "    # squeeze to a series (one dimension)\n",
    "    book_embedding = book_embedding.squeeze()\n",
    "    \n",
    "    # getting the all the embeddings into a Python list\n",
    "    embeddings = list(df_embedding['embedding'])\n",
    "    \n",
    "    # computing the distance from the target embedding to all the other embeddings\n",
    "    distances = distances_from_embeddings(book_embedding,embeddings)\n",
    "    # print(sorted(distances))\n",
    "    indices_of_nearest_neighbors = indices_of_nearest_neighbors_from_distances(distances)\n",
    "    recommendations = list()\n",
    "    for index in indices_of_nearest_neighbors[1:k+1]:\n",
    "        \n",
    "        book = dict()\n",
    "        book['title'] = df_embedding.iloc[index]['title']\n",
    "        book['description'] = df_embedding.iloc[index]['description']\n",
    "        book['distance'] = distances[index]\n",
    "        recommendations.append(book)\n",
    "    \n",
    "    return recommendations"
   ]
  },
  {
   "cell_type": "code",
   "execution_count": 39,
   "id": "11753c33-1443-4e77-a27a-fbaea7e2c137",
   "metadata": {},
   "outputs": [
    {
     "name": "stdin",
     "output_type": "stream",
     "text": [
      "Enter Book's Title:  animal\n"
     ]
    },
    {
     "name": "stdout",
     "output_type": "stream",
     "text": [
      "Book Recommendation #1, Distance: 0.5218509221951955\n",
      "Title: Ecuador Nature Guide\n",
      "Description: The guide provides information on 76 species of birds, plants, mammals and insects of Ecuador. Each species description is accompanied by an illustration as well as information on ecology, local names and uses. Profits from the sale of this guide will go\n",
      "\n",
      "##################################################\n",
      "\n",
      "Book Recommendation #2, Distance: 0.5600394732364364\n",
      "Title: Under the Sea Wind\n",
      "Description: Describes the sea birds and sea creatures that inhabit the Eastern coasts of North America.\n",
      "\n",
      "##################################################\n",
      "\n",
      "Book Recommendation #3, Distance: 0.5676764344265837\n",
      "Title: Bird Songs\n",
      "Description: Drawing from the collection of the world-renowned Macaulay Library at the Cornell Lab of Ornithology, Bird Songs presents the most notable North American birdsincluding the rediscovered Ivory-billed Woodpeckerin a stunning new format. Renowned bird biologist Les Beletsky provides a succinct description of each of the 250 birds profiled, with an emphasis on their distinctive songs. Lavish full-color illustrations accompany each account, while a sleek, built-in digital audio player holds 250 corresponding songs and calls. In his foreword, North American bird expert and distinguished natural historian Jon L. Dunn shares insights gained from a lifetime of passionate study. Complete with the most up-to-date and scientifically accurate information, Bird Songs is the first book to capture the enchantment of these beautiful birds in words, pictures, and song. The Cornell Lab of Ornithology, located in Ithaca, New York, is a nonprofit institution focused on birds and whose mission is to interpret and conserve the earth's biological diversity through research. The Macaulay Library at the Cornell Lab is the major source of sound recordings of birds for research, education, conservation, the media, and commercial products. Listen here Trumpeter Swan Laughing Gull Eastern Bluebird\n",
      "\n",
      "##################################################\n",
      "\n",
      "Book Recommendation #4, Distance: 0.5705984543150429\n",
      "Title: Insects & Spiders\n",
      "Description: An introduction to the physical characteristics, habits, and habitats of different types of insects and spiders.\n",
      "\n",
      "##################################################\n",
      "\n",
      "Book Recommendation #5, Distance: 0.578224305658875\n",
      "Title: Hungry Planet\n",
      "Description: \"A photographic collection exploring what the world eats featuring portraits of thirty families from twenty-four countries surrounded by a week's worth of food\"--Provided by publisher.\n",
      "\n",
      "##################################################\n",
      "\n"
     ]
    }
   ],
   "source": [
    "title = input('Enter Book\\'s Title: ')\n",
    "book_recommendations = recomendation_from_title(df_embedding, title, 5)\n",
    "# print(book_recommendations)\n",
    "\n",
    "if book_recommendations:\n",
    "    for i, item in enumerate(book_recommendations):\n",
    "        print(f'Book Recommendation #{i+1}, Distance: {item[\"distance\"]}')\n",
    "        print(f'Title: {item[\"title\"]}')\n",
    "        print(f'Description: {item[\"description\"]}')\n",
    "        print()\n",
    "        print('#' * 50)\n",
    "        print()\n",
    "else:\n",
    "    print(f'Title {title} does not exist in the dataset.')"
   ]
  },
  {
   "cell_type": "code",
   "execution_count": null,
   "id": "f50aec55-d09d-43ac-b0c2-2990872b3d19",
   "metadata": {},
   "outputs": [],
   "source": []
  }
 ],
 "metadata": {
  "kernelspec": {
   "display_name": "Python 3 (ipykernel)",
   "language": "python",
   "name": "python3"
  },
  "language_info": {
   "codemirror_mode": {
    "name": "ipython",
    "version": 3
   },
   "file_extension": ".py",
   "mimetype": "text/x-python",
   "name": "python",
   "nbconvert_exporter": "python",
   "pygments_lexer": "ipython3",
   "version": "3.12.4"
  }
 },
 "nbformat": 4,
 "nbformat_minor": 5
}
